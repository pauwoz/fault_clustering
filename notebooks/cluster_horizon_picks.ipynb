{
 "cells": [
  {
   "cell_type": "raw",
   "metadata": {},
   "source": [
    "Clustering horizon picks extracted from the lithoprobe seismic lines"
   ]
  },
  {
   "cell_type": "code",
   "execution_count": 15,
   "metadata": {},
   "outputs": [],
   "source": [
    "import pandas as pd\n",
    "from shapely.geometry import Point\n",
    "import numpy as np"
   ]
  },
  {
   "cell_type": "code",
   "execution_count": 16,
   "metadata": {},
   "outputs": [],
   "source": [
    " \n",
    "def make_df_subsets(df, line):\n",
    "\n",
    "    debDf = df[df.HorizonName == 'Mdebolt_interp']\n",
    "    belDf = df[df.HorizonName == 'PRbelloy_interp']\n",
    "    wabDf = df[df.HorizonName == 'Wabamun1']\n",
    "\n",
    "    debDfSubset = debDf[debDf.LineNum == line]\n",
    "    belDfSubset = belDf[belDf.LineNum == line]\n",
    "    wabDfSubset = wabDf[wabDf.LineNum == line]\n",
    "\n",
    "    return debDfSubset, belDfSubset, wabDfSubset\n",
    "\n",
    "\n",
    "def find_closest_pick(debDf, belDf, wabDf):\n",
    "\n",
    "    tres = 100\n",
    "    tracesDeb = []\n",
    "    tracesBel = []\n",
    "    tracesWab = []\n",
    "\n",
    "    XDeb_list = []\n",
    "    YDeb_list = []\n",
    "    TimeResDeb_list = []\n",
    "    XBel_list = []\n",
    "    YBel_list = []\n",
    "    TimeResBel_list = []\n",
    "    XWab_list = []\n",
    "    YWab_list = []\n",
    "    TimeResWab_list = []\n",
    "\n",
    "    lines = []\n",
    "\n",
    "    for indexDeb, rowDeb in debDf.iterrows():\n",
    "\n",
    "        traceDistBel = np.abs(rowDeb.TraceNr - belDf.TraceNr)\n",
    "        traceDistWab = np.abs(rowDeb.TraceNr - wabDf.TraceNr)\n",
    "\n",
    "        traceDeb = rowDeb.TopDepthResidual\n",
    "\n",
    "        XDeb = rowDeb.Easting\n",
    "        YDeb = rowDeb.Northing\n",
    "        TimeResDeb = rowDeb.TopDepthResidual\n",
    "    \n",
    "        if traceDistBel.min() > tres:\n",
    "            traceBel = np.nan\n",
    "            XBel, YBel, TimeResBel = np.nan, np.nan, np.nan\n",
    "        else:\n",
    "            traceBel = int(resPicks.iloc[traceDistBel.idxmin()]['TraceNr'])\n",
    "            XBel = resPicks.iloc[traceDistBel.idxmin()]['Easting']\n",
    "            YBel = resPicks.iloc[traceDistBel.idxmin()]['Northing']\n",
    "            TimeResBel = resPicks.iloc[traceDistBel.idxmin()]['TopDepthResidual']\n",
    "        \n",
    "        if traceDistWab.min() > tres:\n",
    "            traceWab = np.nan\n",
    "            XWab, YWab, TimeResWab = np.nan, np.nan, np.nan\n",
    "        else:\n",
    "            traceWab = int(resPicks.iloc[traceDistWab.idxmin()]['TraceNr'])\n",
    "            XWab = resPicks.iloc[traceDistWab.idxmin()]['Easting']\n",
    "            YWab = resPicks.iloc[traceDistWab.idxmin()]['Northing']\n",
    "            TimeResWab = resPicks.iloc[traceDistWab.idxmin()]['TopDepthResidual']\n",
    "            \n",
    "        tracesDeb.append(traceDeb)\n",
    "        XDeb_list.append(XDeb)\n",
    "        YDeb_list.append(YDeb)\n",
    "        TimeResDeb_list.append(TimeResDeb)\n",
    "        \n",
    "        tracesBel.append(traceBel)\n",
    "        XBel_list.append(XBel)\n",
    "        YBel_list.append(YBel)\n",
    "        TimeResBel_list.append(TimeResBel)\n",
    "        \n",
    "        tracesWab.append(traceWab)\n",
    "        XWab_list.append(XWab)\n",
    "        YWab_list.append(YWab)\n",
    "        TimeResWab_list.append(TimeResWab)\n",
    "        \n",
    "        lines.append(debDf.LineNum.unique()[0])\n",
    "        \n",
    "    dfClosestPicks = pd.DataFrame({\n",
    "        'debPickTrace':tracesDeb,\n",
    "        'belPickTrace':tracesBel,\n",
    "        'wabPickTrace':tracesWab,\n",
    "        'debPickX':XDeb_list,\n",
    "        'debPickY':YDeb_list,\n",
    "        'debRes':TimeResDeb_list,\n",
    "        'belPickX':XBel_list,\n",
    "        'belPickY':YBel_list,\n",
    "        'belRes':TimeResBel_list,\n",
    "        'wabPickX':XWab_list,\n",
    "        'wabPickY':YWab_list,\n",
    "        'wabRes':TimeResWab_list,\n",
    "        'line':lines})\n",
    "    #            'noPicks':sum(pd.notna([debTraces, belTraces, wabTraces])),\n",
    "    return dfClosestPicks\n",
    "\n",
    "def calc_dip(df):\n",
    "    dips = []\n",
    "\n",
    "    df = df.reset_index()\n",
    "    for idx, row in df.iterrows():\n",
    "        \n",
    "        res_list = row[['belRes','debRes','wabRes']].tolist()\n",
    "        X_list = row[['belPickX','debPickX','wabPickX']].tolist()\n",
    "        Y_list = row[['belPickY','debPickY','wabPickY']].tolist()\n",
    "        \n",
    "        if res_list.count('NaN') < 2:\n",
    "            idxmin = res_list.index(np.nanmin(res_list))\n",
    "            idxmax = res_list.index(np.nanmax(res_list))\n",
    "            res0 = res_list[idxmin]\n",
    "            res1 = res_list[idxmax]\n",
    "            P0 = Point(X_list[idxmin],Y_list[idxmin])\n",
    "            P1 = Point(X_list[idxmax],Y_list[idxmax])\n",
    "            \n",
    "            dx = P0.distance(P1)\n",
    "            dt = (res1 - res0)*1000\n",
    "        if ((dx == 0) & (dt == 0)):\n",
    "            dip = 0\n",
    "        else:\n",
    "            dip = dx / dt\n",
    "                \n",
    "        dips.append(dip)\n",
    "    df['dip'] = dips\n",
    "    return df"
   ]
  },
  {
   "cell_type": "code",
   "execution_count": 17,
   "metadata": {},
   "outputs": [
    {
     "data": {
      "text/html": [
       "<div>\n",
       "<style scoped>\n",
       "    .dataframe tbody tr th:only-of-type {\n",
       "        vertical-align: middle;\n",
       "    }\n",
       "\n",
       "    .dataframe tbody tr th {\n",
       "        vertical-align: top;\n",
       "    }\n",
       "\n",
       "    .dataframe thead th {\n",
       "        text-align: right;\n",
       "    }\n",
       "</style>\n",
       "<table border=\"1\" class=\"dataframe\">\n",
       "  <thead>\n",
       "    <tr style=\"text-align: right;\">\n",
       "      <th></th>\n",
       "      <th>Easting</th>\n",
       "      <th>Northing</th>\n",
       "      <th>TopDepth</th>\n",
       "      <th>TopDepthPred</th>\n",
       "      <th>TopDepthResidual</th>\n",
       "      <th>TraceNr</th>\n",
       "      <th>LineNum</th>\n",
       "      <th>HorizonName</th>\n",
       "    </tr>\n",
       "  </thead>\n",
       "  <tbody>\n",
       "    <tr>\n",
       "      <th>0</th>\n",
       "      <td>281418</td>\n",
       "      <td>6201553.33</td>\n",
       "      <td>1.7747</td>\n",
       "      <td>1.848842</td>\n",
       "      <td>-0.074142</td>\n",
       "      <td>240</td>\n",
       "      <td>L11a_smooth</td>\n",
       "      <td>Mdebolt_interp</td>\n",
       "    </tr>\n",
       "    <tr>\n",
       "      <th>1</th>\n",
       "      <td>294715</td>\n",
       "      <td>6199393.04</td>\n",
       "      <td>1.7769</td>\n",
       "      <td>1.812971</td>\n",
       "      <td>-0.036071</td>\n",
       "      <td>1323</td>\n",
       "      <td>L11a_smooth</td>\n",
       "      <td>Mdebolt_interp</td>\n",
       "    </tr>\n",
       "    <tr>\n",
       "      <th>2</th>\n",
       "      <td>297749</td>\n",
       "      <td>6199250.16</td>\n",
       "      <td>1.7660</td>\n",
       "      <td>1.803793</td>\n",
       "      <td>-0.037793</td>\n",
       "      <td>1566</td>\n",
       "      <td>L11a_smooth</td>\n",
       "      <td>Mdebolt_interp</td>\n",
       "    </tr>\n",
       "    <tr>\n",
       "      <th>3</th>\n",
       "      <td>300359</td>\n",
       "      <td>6199126.33</td>\n",
       "      <td>1.7697</td>\n",
       "      <td>1.795901</td>\n",
       "      <td>-0.026201</td>\n",
       "      <td>1775</td>\n",
       "      <td>L11a_smooth</td>\n",
       "      <td>Mdebolt_interp</td>\n",
       "    </tr>\n",
       "    <tr>\n",
       "      <th>4</th>\n",
       "      <td>301482</td>\n",
       "      <td>6199080.00</td>\n",
       "      <td>1.7649</td>\n",
       "      <td>1.792485</td>\n",
       "      <td>-0.027585</td>\n",
       "      <td>1865</td>\n",
       "      <td>L11a_smooth</td>\n",
       "      <td>Mdebolt_interp</td>\n",
       "    </tr>\n",
       "  </tbody>\n",
       "</table>\n",
       "</div>"
      ],
      "text/plain": [
       "   Easting    Northing  TopDepth  TopDepthPred  TopDepthResidual  TraceNr  \\\n",
       "0   281418  6201553.33    1.7747      1.848842         -0.074142      240   \n",
       "1   294715  6199393.04    1.7769      1.812971         -0.036071     1323   \n",
       "2   297749  6199250.16    1.7660      1.803793         -0.037793     1566   \n",
       "3   300359  6199126.33    1.7697      1.795901         -0.026201     1775   \n",
       "4   301482  6199080.00    1.7649      1.792485         -0.027585     1865   \n",
       "\n",
       "       LineNum     HorizonName  \n",
       "0  L11a_smooth  Mdebolt_interp  \n",
       "1  L11a_smooth  Mdebolt_interp  \n",
       "2  L11a_smooth  Mdebolt_interp  \n",
       "3  L11a_smooth  Mdebolt_interp  \n",
       "4  L11a_smooth  Mdebolt_interp  "
      ]
     },
     "execution_count": 17,
     "metadata": {},
     "output_type": "execute_result"
    }
   ],
   "source": [
    "resPicks = pd.read_csv('/home/paulina/Desktop/NRCan/scripts/data/faultPicks_1stOrd.txt', delimiter='\\t')\n",
    "resPicks.head()"
   ]
  },
  {
   "cell_type": "code",
   "execution_count": 18,
   "metadata": {},
   "outputs": [
    {
     "name": "stdout",
     "output_type": "stream",
     "text": [
      "   debPickTrace  belPickTrace  wabPickTrace  debPickX    debPickY    debRes  \\\n",
      "0     -0.017291         374.0           NaN    503235  6149149.92 -0.017291   \n",
      "1     -0.029385         551.0         566.0    504344  6149151.01 -0.029385   \n",
      "2     -0.034740         551.0         566.0    505118  6149151.05 -0.034740   \n",
      "3     -0.024391         551.0         624.0    506304  6149152.14 -0.024391   \n",
      "4     -0.030012         738.0         777.0    507467  6149153.90 -0.030012   \n",
      "\n",
      "   belPickX    belPickY    belRes  wabPickX    wabPickY    wabRes      line  \n",
      "0  502986.0  6149150.00 -0.019267       NaN         NaN       NaN  L14ab(1)  \n",
      "1  505193.0  6149151.14 -0.023002  505380.0  6149151.44 -0.021926  L14ab(1)  \n",
      "2  505193.0  6149151.14 -0.023002  505380.0  6149151.44 -0.021926  L14ab(1)  \n",
      "3  505193.0  6149151.14 -0.023002  506104.0  6149151.94 -0.021674  L14ab(1)  \n",
      "4  507529.0  6149154.05 -0.016696  508017.0  6149155.39 -0.021152  L14ab(1)  \n",
      "(117, 13)\n"
     ]
    }
   ],
   "source": [
    "picksDf = pd.DataFrame(columns={\n",
    "        'debPickTrace':[],\n",
    "        'belPickTrace':[],\n",
    "        'wabPickTrace':[],\n",
    "        'debPickX':[],\n",
    "        'debPickY':[],\n",
    "        'debRes':[],\n",
    "        'belPickX':[],\n",
    "        'belPickY':[],\n",
    "        'belRes':[],\n",
    "        'wabPickX':[],\n",
    "        'wabPickY':[],\n",
    "        'wabRes':[],\n",
    "        'line':[]})\n",
    " \n",
    "for line in resPicks.LineNum.unique():\n",
    "    debDfSubset, belDfSubset, wabDfSubset = make_df_subsets(resPicks, line)\n",
    "    df = find_closest_pick(debDfSubset, belDfSubset, wabDfSubset)\n",
    "    df2 = calc_dip(df)\n",
    "\n",
    "    picksDf = picksDf.append(df, sort=False)\n",
    "    \n",
    "print(df.head())\n",
    "print(picksDf.shape)\n"
   ]
  },
  {
   "cell_type": "code",
   "execution_count": 19,
   "metadata": {},
   "outputs": [
    {
     "data": {
      "text/html": [
       "<div>\n",
       "<style scoped>\n",
       "    .dataframe tbody tr th:only-of-type {\n",
       "        vertical-align: middle;\n",
       "    }\n",
       "\n",
       "    .dataframe tbody tr th {\n",
       "        vertical-align: top;\n",
       "    }\n",
       "\n",
       "    .dataframe thead th {\n",
       "        text-align: right;\n",
       "    }\n",
       "</style>\n",
       "<table border=\"1\" class=\"dataframe\">\n",
       "  <thead>\n",
       "    <tr style=\"text-align: right;\">\n",
       "      <th></th>\n",
       "      <th>debPickTrace</th>\n",
       "      <th>belPickTrace</th>\n",
       "      <th>wabPickTrace</th>\n",
       "      <th>debPickX</th>\n",
       "      <th>debPickY</th>\n",
       "      <th>debRes</th>\n",
       "      <th>belPickX</th>\n",
       "      <th>belPickY</th>\n",
       "      <th>belRes</th>\n",
       "      <th>wabPickX</th>\n",
       "      <th>wabPickY</th>\n",
       "      <th>wabRes</th>\n",
       "      <th>line</th>\n",
       "      <th>noPicks</th>\n",
       "    </tr>\n",
       "  </thead>\n",
       "  <tbody>\n",
       "    <tr>\n",
       "      <th>0</th>\n",
       "      <td>-0.074142</td>\n",
       "      <td>271.0</td>\n",
       "      <td>NaN</td>\n",
       "      <td>281418</td>\n",
       "      <td>6201553.33</td>\n",
       "      <td>-0.074142</td>\n",
       "      <td>281803.0</td>\n",
       "      <td>6201548.80</td>\n",
       "      <td>-0.083527</td>\n",
       "      <td>NaN</td>\n",
       "      <td>NaN</td>\n",
       "      <td>NaN</td>\n",
       "      <td>L11a_smooth</td>\n",
       "      <td>2</td>\n",
       "    </tr>\n",
       "    <tr>\n",
       "      <th>1</th>\n",
       "      <td>-0.036071</td>\n",
       "      <td>NaN</td>\n",
       "      <td>1352.0</td>\n",
       "      <td>294715</td>\n",
       "      <td>6199393.04</td>\n",
       "      <td>-0.036071</td>\n",
       "      <td>NaN</td>\n",
       "      <td>NaN</td>\n",
       "      <td>NaN</td>\n",
       "      <td>295077.0</td>\n",
       "      <td>6199374.94</td>\n",
       "      <td>0.007761</td>\n",
       "      <td>L11a_smooth</td>\n",
       "      <td>2</td>\n",
       "    </tr>\n",
       "    <tr>\n",
       "      <th>2</th>\n",
       "      <td>-0.037793</td>\n",
       "      <td>1579.0</td>\n",
       "      <td>1531.0</td>\n",
       "      <td>297749</td>\n",
       "      <td>6199250.16</td>\n",
       "      <td>-0.037793</td>\n",
       "      <td>297911.0</td>\n",
       "      <td>6199242.66</td>\n",
       "      <td>-0.026307</td>\n",
       "      <td>297312.0</td>\n",
       "      <td>6199269.83</td>\n",
       "      <td>-0.012718</td>\n",
       "      <td>L11a_smooth</td>\n",
       "      <td>3</td>\n",
       "    </tr>\n",
       "    <tr>\n",
       "      <th>3</th>\n",
       "      <td>-0.026201</td>\n",
       "      <td>NaN</td>\n",
       "      <td>1798.0</td>\n",
       "      <td>300359</td>\n",
       "      <td>6199126.33</td>\n",
       "      <td>-0.026201</td>\n",
       "      <td>NaN</td>\n",
       "      <td>NaN</td>\n",
       "      <td>NaN</td>\n",
       "      <td>300646.0</td>\n",
       "      <td>6199119.83</td>\n",
       "      <td>-0.000730</td>\n",
       "      <td>L11a_smooth</td>\n",
       "      <td>2</td>\n",
       "    </tr>\n",
       "    <tr>\n",
       "      <th>4</th>\n",
       "      <td>-0.027585</td>\n",
       "      <td>NaN</td>\n",
       "      <td>1798.0</td>\n",
       "      <td>301482</td>\n",
       "      <td>6199080.00</td>\n",
       "      <td>-0.027585</td>\n",
       "      <td>NaN</td>\n",
       "      <td>NaN</td>\n",
       "      <td>NaN</td>\n",
       "      <td>300646.0</td>\n",
       "      <td>6199119.83</td>\n",
       "      <td>-0.000730</td>\n",
       "      <td>L11a_smooth</td>\n",
       "      <td>2</td>\n",
       "    </tr>\n",
       "  </tbody>\n",
       "</table>\n",
       "</div>"
      ],
      "text/plain": [
       "   debPickTrace  belPickTrace  wabPickTrace debPickX    debPickY    debRes  \\\n",
       "0     -0.074142         271.0           NaN   281418  6201553.33 -0.074142   \n",
       "1     -0.036071           NaN        1352.0   294715  6199393.04 -0.036071   \n",
       "2     -0.037793        1579.0        1531.0   297749  6199250.16 -0.037793   \n",
       "3     -0.026201           NaN        1798.0   300359  6199126.33 -0.026201   \n",
       "4     -0.027585           NaN        1798.0   301482  6199080.00 -0.027585   \n",
       "\n",
       "   belPickX    belPickY    belRes  wabPickX    wabPickY    wabRes  \\\n",
       "0  281803.0  6201548.80 -0.083527       NaN         NaN       NaN   \n",
       "1       NaN         NaN       NaN  295077.0  6199374.94  0.007761   \n",
       "2  297911.0  6199242.66 -0.026307  297312.0  6199269.83 -0.012718   \n",
       "3       NaN         NaN       NaN  300646.0  6199119.83 -0.000730   \n",
       "4       NaN         NaN       NaN  300646.0  6199119.83 -0.000730   \n",
       "\n",
       "          line  noPicks  \n",
       "0  L11a_smooth        2  \n",
       "1  L11a_smooth        2  \n",
       "2  L11a_smooth        3  \n",
       "3  L11a_smooth        2  \n",
       "4  L11a_smooth        2  "
      ]
     },
     "execution_count": 19,
     "metadata": {},
     "output_type": "execute_result"
    }
   ],
   "source": [
    "picksDf['noPicks'] = picksDf.apply(lambda x: sum(pd.notna(x[['debPickTrace','belPickTrace','wabPickTrace']])), \n",
    "                                   axis=1)\n",
    "picksDf.head()"
   ]
  },
  {
   "cell_type": "code",
   "execution_count": 20,
   "metadata": {},
   "outputs": [
    {
     "data": {
      "text/html": [
       "<div>\n",
       "<style scoped>\n",
       "    .dataframe tbody tr th:only-of-type {\n",
       "        vertical-align: middle;\n",
       "    }\n",
       "\n",
       "    .dataframe tbody tr th {\n",
       "        vertical-align: top;\n",
       "    }\n",
       "\n",
       "    .dataframe thead th {\n",
       "        text-align: right;\n",
       "    }\n",
       "</style>\n",
       "<table border=\"1\" class=\"dataframe\">\n",
       "  <thead>\n",
       "    <tr style=\"text-align: right;\">\n",
       "      <th></th>\n",
       "      <th>index</th>\n",
       "      <th>debPickTrace</th>\n",
       "      <th>belPickTrace</th>\n",
       "      <th>wabPickTrace</th>\n",
       "      <th>debPickX</th>\n",
       "      <th>debPickY</th>\n",
       "      <th>debRes</th>\n",
       "      <th>belPickX</th>\n",
       "      <th>belPickY</th>\n",
       "      <th>belRes</th>\n",
       "      <th>wabPickX</th>\n",
       "      <th>wabPickY</th>\n",
       "      <th>wabRes</th>\n",
       "      <th>line</th>\n",
       "      <th>noPicks</th>\n",
       "      <th>dip</th>\n",
       "    </tr>\n",
       "  </thead>\n",
       "  <tbody>\n",
       "    <tr>\n",
       "      <th>0</th>\n",
       "      <td>0</td>\n",
       "      <td>-0.074142</td>\n",
       "      <td>271.0</td>\n",
       "      <td>NaN</td>\n",
       "      <td>281418</td>\n",
       "      <td>6201553.33</td>\n",
       "      <td>-0.074142</td>\n",
       "      <td>281803.0</td>\n",
       "      <td>6201548.80</td>\n",
       "      <td>-0.083527</td>\n",
       "      <td>NaN</td>\n",
       "      <td>NaN</td>\n",
       "      <td>NaN</td>\n",
       "      <td>L11a_smooth</td>\n",
       "      <td>2</td>\n",
       "      <td>41.023971</td>\n",
       "    </tr>\n",
       "    <tr>\n",
       "      <th>1</th>\n",
       "      <td>1</td>\n",
       "      <td>-0.036071</td>\n",
       "      <td>NaN</td>\n",
       "      <td>1352.0</td>\n",
       "      <td>294715</td>\n",
       "      <td>6199393.04</td>\n",
       "      <td>-0.036071</td>\n",
       "      <td>NaN</td>\n",
       "      <td>NaN</td>\n",
       "      <td>NaN</td>\n",
       "      <td>295077.0</td>\n",
       "      <td>6199374.94</td>\n",
       "      <td>0.007761</td>\n",
       "      <td>L11a_smooth</td>\n",
       "      <td>2</td>\n",
       "      <td>8.269009</td>\n",
       "    </tr>\n",
       "    <tr>\n",
       "      <th>2</th>\n",
       "      <td>2</td>\n",
       "      <td>-0.037793</td>\n",
       "      <td>1579.0</td>\n",
       "      <td>1531.0</td>\n",
       "      <td>297749</td>\n",
       "      <td>6199250.16</td>\n",
       "      <td>-0.037793</td>\n",
       "      <td>297911.0</td>\n",
       "      <td>6199242.66</td>\n",
       "      <td>-0.026307</td>\n",
       "      <td>297312.0</td>\n",
       "      <td>6199269.83</td>\n",
       "      <td>-0.012718</td>\n",
       "      <td>L11a_smooth</td>\n",
       "      <td>3</td>\n",
       "      <td>17.444767</td>\n",
       "    </tr>\n",
       "    <tr>\n",
       "      <th>3</th>\n",
       "      <td>3</td>\n",
       "      <td>-0.026201</td>\n",
       "      <td>NaN</td>\n",
       "      <td>1798.0</td>\n",
       "      <td>300359</td>\n",
       "      <td>6199126.33</td>\n",
       "      <td>-0.026201</td>\n",
       "      <td>NaN</td>\n",
       "      <td>NaN</td>\n",
       "      <td>NaN</td>\n",
       "      <td>300646.0</td>\n",
       "      <td>6199119.83</td>\n",
       "      <td>-0.000730</td>\n",
       "      <td>L11a_smooth</td>\n",
       "      <td>2</td>\n",
       "      <td>11.270854</td>\n",
       "    </tr>\n",
       "    <tr>\n",
       "      <th>4</th>\n",
       "      <td>4</td>\n",
       "      <td>-0.027585</td>\n",
       "      <td>NaN</td>\n",
       "      <td>1798.0</td>\n",
       "      <td>301482</td>\n",
       "      <td>6199080.00</td>\n",
       "      <td>-0.027585</td>\n",
       "      <td>NaN</td>\n",
       "      <td>NaN</td>\n",
       "      <td>NaN</td>\n",
       "      <td>300646.0</td>\n",
       "      <td>6199119.83</td>\n",
       "      <td>-0.000730</td>\n",
       "      <td>L11a_smooth</td>\n",
       "      <td>2</td>\n",
       "      <td>31.165688</td>\n",
       "    </tr>\n",
       "  </tbody>\n",
       "</table>\n",
       "</div>"
      ],
      "text/plain": [
       "   index  debPickTrace  belPickTrace  wabPickTrace debPickX    debPickY  \\\n",
       "0      0     -0.074142         271.0           NaN   281418  6201553.33   \n",
       "1      1     -0.036071           NaN        1352.0   294715  6199393.04   \n",
       "2      2     -0.037793        1579.0        1531.0   297749  6199250.16   \n",
       "3      3     -0.026201           NaN        1798.0   300359  6199126.33   \n",
       "4      4     -0.027585           NaN        1798.0   301482  6199080.00   \n",
       "\n",
       "     debRes  belPickX    belPickY    belRes  wabPickX    wabPickY    wabRes  \\\n",
       "0 -0.074142  281803.0  6201548.80 -0.083527       NaN         NaN       NaN   \n",
       "1 -0.036071       NaN         NaN       NaN  295077.0  6199374.94  0.007761   \n",
       "2 -0.037793  297911.0  6199242.66 -0.026307  297312.0  6199269.83 -0.012718   \n",
       "3 -0.026201       NaN         NaN       NaN  300646.0  6199119.83 -0.000730   \n",
       "4 -0.027585       NaN         NaN       NaN  300646.0  6199119.83 -0.000730   \n",
       "\n",
       "          line  noPicks        dip  \n",
       "0  L11a_smooth        2  41.023971  \n",
       "1  L11a_smooth        2   8.269009  \n",
       "2  L11a_smooth        3  17.444767  \n",
       "3  L11a_smooth        2  11.270854  \n",
       "4  L11a_smooth        2  31.165688  "
      ]
     },
     "execution_count": 20,
     "metadata": {},
     "output_type": "execute_result"
    }
   ],
   "source": [
    " \n",
    "dfDips = calc_dip(picksDf)\n",
    "dfDips.head()"
   ]
  },
  {
   "cell_type": "code",
   "execution_count": 21,
   "metadata": {},
   "outputs": [
    {
     "name": "stdout",
     "output_type": "stream",
     "text": [
      "[ 7  8  0 11  2 10  5  6  4 14 13  9 12  1  3]\n"
     ]
    }
   ],
   "source": [
    "# NOT ENCODED\n",
    "from sklearn.preprocessing import MinMaxScaler\n",
    "\n",
    "dfML = dfDips[['debPickTrace', 'debPickX', 'debPickY','dip','noPicks']]    \n",
    "X = dfML.values\n",
    "X_scaled = MinMaxScaler().fit_transform(X)\n",
    "\n",
    "model_kmean = KMeans(n_clusters=15,n_init=8, random_state=1234)\n",
    "y_pred_kmean = model_kmean.fit_predict(X_scaled)\n",
    "y_pred_kmean\n",
    "\n",
    "kmean_params_dict = model_kmean.get_params()\n",
    "keys = ['n_clusters']\n",
    "kmean_params = [(key, kmean_params_dict[key]) for key in keys]\n",
    "dfML_kmean = dfML.copy()\n",
    "dfML_kmean['label'] = y_pred_kmean.tolist()\n",
    " \n",
    "print(dfML_kmean['label'].unique())"
   ]
  },
  {
   "cell_type": "code",
   "execution_count": 22,
   "metadata": {},
   "outputs": [],
   "source": [
    "import plotly.express as px\n",
    "import plotly.graph_objects as go\n",
    "import numpy as np\n",
    "from sklearn.cluster import KMeans\n",
    "from sklearn.cluster import DBSCAN\n",
    "from sklearn.preprocessing import MinMaxScaler, OneHotEncoder, StandardScaler\n",
    "from sklearn.compose import ColumnTransformer \n",
    "from sklearn import preprocessing\n",
    "import random # for color codes generation\n",
    "dfML = dfDips[['debPickTrace', 'debPickX', 'debPickY','dip','noPicks']]    \n",
    "\n",
    "# dfML = dfDips[['debPickTrace','dip','noPicks']]    \n",
    "X = dfML.values\n",
    "X_scaled = MinMaxScaler().fit_transform(X)\n",
    "\n",
    "model_db = DBSCAN(eps=0.13, metric='euclidean', min_samples=3) # metric='euclidean'\n",
    "y_pred_dbscan = model_db.fit_predict(X_scaled)\n",
    "# y_pred_dbscan\n",
    "\n",
    "db_params_dict = model_db.get_params()\n",
    "keys = ['eps','metric','min_samples']\n",
    "db_params = [(key, db_params_dict[key]) for key in keys]\n",
    "dfML_dbscan = dfML.copy()\n",
    "dfML_dbscan['label'] = y_pred_dbscan.tolist()"
   ]
  },
  {
   "cell_type": "code",
   "execution_count": 23,
   "metadata": {},
   "outputs": [
    {
     "data": {
      "application/vnd.plotly.v1+json": {
       "config": {
        "plotlyServerURL": "https://plot.ly"
       },
       "data": [
        {
         "legendgroup": "0",
         "marker": {
          "color": "#2bac34",
          "size": 2
         },
         "mode": "markers",
         "name": "Fault group-1",
         "type": "scatter3d",
         "x": [
          -281418,
          -307064,
          -320572,
          -330002,
          -338125,
          -341735,
          -348168,
          -359387,
          -383640,
          -474276,
          -484913,
          -484976,
          -488513,
          -500963,
          -488601,
          -400758,
          -429389,
          -501584,
          -501584,
          -503215,
          -503216,
          -503235,
          -504344,
          -506304,
          -510840,
          -515300,
          -519565,
          -519448,
          -519412,
          -519634,
          -518617,
          -518311,
          -518888,
          -518468,
          -518097
         ],
         "y": [
          -6201553.33,
          -6198833.41,
          -6198241.75,
          -6197856.22,
          -6194325.37,
          -6194172.95,
          -6193939.02,
          -6193561.45,
          -6193784.4,
          -6184866.18,
          -6184802.58,
          -6184802.37,
          -6184791.38,
          -6184775.96,
          -6184791.19,
          -6189657.51,
          -6185365.6,
          -6183810.27,
          -6180187.93,
          -6154478.16,
          -6153720.18,
          -6149149.92,
          -6149151.01,
          -6149152.14,
          -6149167.11,
          -6149172.08,
          -6133169.82,
          -6131390.92,
          -6128407.88,
          -6119871,
          -6112463.26,
          -6108219.28,
          -6106047.27,
          -6103622.92,
          -6102980.19
         ],
         "z": [
          0.0741417590827189,
          0.0443536016333861,
          0.0269661255583442,
          -0.0741254808808829,
          0.0138348714575101,
          0.0032648346526578,
          -0.0851906179028772,
          -0.0406555070581776,
          0.0035069197990826,
          0.0334280752200935,
          0.0051107044262779,
          0.0042123097018125,
          0.004871593320866,
          -0.0151089756416698,
          0.0303941773605982,
          -0.0155531069919932,
          -0.0500096782607939,
          -0.0042306614835168,
          0.0290464033705451,
          0.0135368286881536,
          0.008584161121995,
          0.0172905892529824,
          0.0293846318619628,
          0.0243906096398496,
          0.02372082010897,
          0.0319194539796026,
          0.0133486712663387,
          -0.0042347968008604,
          -0.004857802998307,
          -0.0077387331201654,
          -0.0174097047223374,
          -0.0199024383416524,
          -0.0235626548955019,
          -0.0251578450089276,
          -0.0198625006390103
         ]
        },
        {
         "legendgroup": "1",
         "marker": {
          "color": "#08989a",
          "size": 2
         },
         "mode": "markers",
         "name": "Fault group0",
         "type": "scatter3d",
         "x": [
          -294715,
          -300359,
          -301482,
          -309564
         ],
         "y": [
          -6199393.04,
          -6199126.33,
          -6199080,
          -6198817.77
         ],
         "z": [
          0.0360711572173031,
          0.0262008253250443,
          0.0275851847236832,
          0.0508015251011888
         ]
        },
        {
         "legendgroup": "2",
         "marker": {
          "color": "#787e5d",
          "size": 2
         },
         "mode": "markers",
         "name": "Fault group1",
         "type": "scatter3d",
         "x": [
          -297749,
          -304192,
          -311761,
          -314392,
          -315445,
          -317676
         ],
         "y": [
          -6199250.16,
          -6198958.67,
          -6199360.59,
          -6200070.2,
          -6199832.08,
          -6198841.69
         ],
         "z": [
          0.0377933960732024,
          0.0424696631674486,
          0.0426220722361881,
          0.03999859015026,
          0.0327481841061108,
          0.0318112621232931
         ]
        },
        {
         "legendgroup": "3",
         "marker": {
          "color": "#795777",
          "size": 2
         },
         "mode": "markers",
         "name": "Fault group2",
         "type": "scatter3d",
         "x": [
          -334478,
          -339662,
          -340548,
          -346519
         ],
         "y": [
          -6194460.87,
          -6194247.39,
          -6194215.76,
          -6194000.25
         ],
         "z": [
          0.0105697800235678,
          0.0046013741489159,
          0.0020926110689376,
          0.0061441623334541
         ]
        },
        {
         "legendgroup": "4",
         "marker": {
          "color": "#72fcee",
          "size": 2
         },
         "mode": "markers",
         "name": "Fault group3",
         "type": "scatter3d",
         "x": [
          -349655,
          -351004,
          -354177,
          -357251,
          -361352,
          -362465,
          -365175,
          -366637,
          -366724,
          -369440,
          -371264,
          -375559,
          -377795,
          -380635,
          -380745,
          -381431,
          -387761,
          -389861,
          -394447,
          -396920,
          -402593,
          -407385,
          -410384,
          -416679,
          -416716,
          -424777
         ],
         "y": [
          -6193886.65,
          -6193839.36,
          -6193731.23,
          -6193630.96,
          -6193449.77,
          -6193130.58,
          -6192174.03,
          -6192222.24,
          -6192218.87,
          -6193103.67,
          -6193190.34,
          -6193066.07,
          -6193059.24,
          -6193396.54,
          -6193418.21,
          -6193508.49,
          -6189506.64,
          -6189457.05,
          -6189377.19,
          -6189315.74,
          -6189655.74,
          -6189047.77,
          -6188988.14,
          -6185595.14,
          -6185594.38,
          -6185450.02
         ],
         "z": [
          -0.0525388452332054,
          -0.0526656012034772,
          -0.0376809953442585,
          -0.0449059899674458,
          -0.0323452650649507,
          -0.0108551794195002,
          -0.0200010697132349,
          -0.038355691512612,
          -0.0334209268062624,
          -0.0272099257168306,
          -0.0038170695595374,
          -0.013830598804754,
          -0.0105738054423112,
          -0.0121011372406612,
          -0.0113100617094239,
          -0.0092329838800389,
          -0.0100730078667617,
          -0.0099653318015253,
          0.000975995121633,
          0.0113391693616756,
          0.004955920940785,
          0.0016448994057698,
          0.001441497126295,
          -0.0173153657539613,
          -0.0181300769817514,
          -0.0260818194432577
         ]
        },
        {
         "legendgroup": "5",
         "marker": {
          "color": "#e14d76",
          "size": 2
         },
         "mode": "markers",
         "name": "Fault group7",
         "type": "scatter3d",
         "x": [
          -382641,
          -398690,
          -419178
         ],
         "y": [
          -6193733.62,
          -6189423.5,
          -6185547.2
         ],
         "z": [
          -0.0082935893790741,
          -0.0137572463370821,
          -0.0199726442703838
         ]
        },
        {
         "legendgroup": "6",
         "marker": {
          "color": "#43ac8e",
          "size": 2
         },
         "mode": "markers",
         "name": "Fault group6",
         "type": "scatter3d",
         "x": [
          -472376,
          -458751,
          -458926
         ],
         "y": [
          -6184872.41,
          -6188216.39,
          -6188214.83
         ],
         "z": [
          0.0304117013506962,
          0.0186600299336295,
          0.0244117044112249
         ]
        },
        {
         "legendgroup": "7",
         "marker": {
          "color": "#709f5b",
          "size": 2
         },
         "mode": "markers",
         "name": "Fault group8",
         "type": "scatter3d",
         "x": [
          -479913,
          -446237,
          -448237,
          -451799,
          -452599
         ],
         "y": [
          -6184824.51,
          -6185110.37,
          -6185086.5,
          -6185046.9,
          -6185038.55
         ],
         "z": [
          0.0294413846958481,
          0.0341986923102515,
          0.0367492552552273,
          0.0322107447918549,
          0.0230075710830242
         ]
        },
        {
         "legendgroup": "8",
         "marker": {
          "color": "#25dc1c",
          "size": 2
         },
         "mode": "markers",
         "name": "Fault group4",
         "type": "scatter3d",
         "x": [
          -481288,
          -482676,
          -501585,
          -501586
         ],
         "y": [
          -6184817.5,
          -6184811.17,
          -6184865.28,
          -6184527.69
         ],
         "z": [
          0.0055182258854242,
          0.0038520762872926,
          -0.0032270250610311,
          -0.0146723954916332
         ]
        },
        {
         "legendgroup": "9",
         "marker": {
          "color": "#3436d3",
          "size": 2
         },
         "mode": "markers",
         "name": "Fault group5",
         "type": "scatter3d",
         "x": [
          -457638,
          -459776,
          -462176,
          -465038
         ],
         "y": [
          -6188227.28,
          -6188207.6,
          -6188187.41,
          -6188165.53
         ],
         "z": [
          0.0206446327753165,
          0.0352474241258047,
          0.0360241145268829,
          0.0418463358520169
         ]
        },
        {
         "legendgroup": "10",
         "marker": {
          "color": "#26a883",
          "size": 2
         },
         "mode": "markers",
         "name": "Fault group9",
         "type": "scatter3d",
         "x": [
          -501584,
          -501582,
          -501582,
          -502239,
          -502754,
          -502924,
          -503214
         ],
         "y": [
          -6176502.12,
          -6172241.18,
          -6166764.07,
          -6162329.17,
          -6161163.81,
          -6160388.04,
          -6156181.42
         ],
         "z": [
          0.0504035411350177,
          0.0344987170761584,
          0.0294380134102485,
          0.019645233185734,
          0.0139248473890252,
          0.0141888524675726,
          0.0024076099970165
         ]
        },
        {
         "legendgroup": "11",
         "marker": {
          "color": "#85c858",
          "size": 2
         },
         "mode": "markers",
         "name": "Fault group10",
         "type": "scatter3d",
         "x": [
          -503218,
          -505118,
          -507467,
          -509229,
          -520698,
          -520744
         ],
         "y": [
          -6149350.84,
          -6149151.05,
          -6149153.9,
          -6149160.21,
          -6147497.77,
          -6147399.02
         ],
         "z": [
          0.0235742480961851,
          0.0347397776696716,
          0.0300121880637481,
          0.0251288682717474,
          0.0429196828601757,
          0.044454555199344
         ]
        },
        {
         "legendgroup": "12",
         "marker": {
          "color": "#fbf775",
          "size": 2
         },
         "mode": "markers",
         "name": "Fault group11",
         "type": "scatter3d",
         "x": [
          -514806,
          -517711,
          -519100,
          -521698,
          -521348,
          -521164,
          -520929
         ],
         "y": [
          -6149167.77,
          -6149187.07,
          -6148987.06,
          -6145094.4,
          -6141622.92,
          -6140494.8,
          -6138684.25
         ],
         "z": [
          0.0345920204121959,
          0.0428615896210374,
          0.0391417776033851,
          0.0385797864612507,
          0.045134344147052,
          0.0407161506986944,
          0.0356951903378016
         ]
        },
        {
         "legendgroup": "13",
         "marker": {
          "color": "#c865d0",
          "size": 2
         },
         "mode": "markers",
         "name": "Fault group12",
         "type": "scatter3d",
         "x": [
          -519507,
          -519608,
          -519420
         ],
         "y": [
          -6124661.65,
          -6121481.24,
          -6115564.09
         ],
         "z": [
          0.0003706893432833,
          -0.0008250770908921,
          -0.0030435152162329
         ]
        }
       ],
       "layout": {
        "scene": {
         "aspectmode": "manual",
         "aspectratio": {
          "x": 2,
          "y": 2,
          "z": 1
         }
        },
        "template": {
         "data": {
          "bar": [
           {
            "error_x": {
             "color": "#2a3f5f"
            },
            "error_y": {
             "color": "#2a3f5f"
            },
            "marker": {
             "line": {
              "color": "#E5ECF6",
              "width": 0.5
             }
            },
            "type": "bar"
           }
          ],
          "barpolar": [
           {
            "marker": {
             "line": {
              "color": "#E5ECF6",
              "width": 0.5
             }
            },
            "type": "barpolar"
           }
          ],
          "carpet": [
           {
            "aaxis": {
             "endlinecolor": "#2a3f5f",
             "gridcolor": "white",
             "linecolor": "white",
             "minorgridcolor": "white",
             "startlinecolor": "#2a3f5f"
            },
            "baxis": {
             "endlinecolor": "#2a3f5f",
             "gridcolor": "white",
             "linecolor": "white",
             "minorgridcolor": "white",
             "startlinecolor": "#2a3f5f"
            },
            "type": "carpet"
           }
          ],
          "choropleth": [
           {
            "colorbar": {
             "outlinewidth": 0,
             "ticks": ""
            },
            "type": "choropleth"
           }
          ],
          "contour": [
           {
            "colorbar": {
             "outlinewidth": 0,
             "ticks": ""
            },
            "colorscale": [
             [
              0,
              "#0d0887"
             ],
             [
              0.1111111111111111,
              "#46039f"
             ],
             [
              0.2222222222222222,
              "#7201a8"
             ],
             [
              0.3333333333333333,
              "#9c179e"
             ],
             [
              0.4444444444444444,
              "#bd3786"
             ],
             [
              0.5555555555555556,
              "#d8576b"
             ],
             [
              0.6666666666666666,
              "#ed7953"
             ],
             [
              0.7777777777777778,
              "#fb9f3a"
             ],
             [
              0.8888888888888888,
              "#fdca26"
             ],
             [
              1,
              "#f0f921"
             ]
            ],
            "type": "contour"
           }
          ],
          "contourcarpet": [
           {
            "colorbar": {
             "outlinewidth": 0,
             "ticks": ""
            },
            "type": "contourcarpet"
           }
          ],
          "heatmap": [
           {
            "colorbar": {
             "outlinewidth": 0,
             "ticks": ""
            },
            "colorscale": [
             [
              0,
              "#0d0887"
             ],
             [
              0.1111111111111111,
              "#46039f"
             ],
             [
              0.2222222222222222,
              "#7201a8"
             ],
             [
              0.3333333333333333,
              "#9c179e"
             ],
             [
              0.4444444444444444,
              "#bd3786"
             ],
             [
              0.5555555555555556,
              "#d8576b"
             ],
             [
              0.6666666666666666,
              "#ed7953"
             ],
             [
              0.7777777777777778,
              "#fb9f3a"
             ],
             [
              0.8888888888888888,
              "#fdca26"
             ],
             [
              1,
              "#f0f921"
             ]
            ],
            "type": "heatmap"
           }
          ],
          "heatmapgl": [
           {
            "colorbar": {
             "outlinewidth": 0,
             "ticks": ""
            },
            "colorscale": [
             [
              0,
              "#0d0887"
             ],
             [
              0.1111111111111111,
              "#46039f"
             ],
             [
              0.2222222222222222,
              "#7201a8"
             ],
             [
              0.3333333333333333,
              "#9c179e"
             ],
             [
              0.4444444444444444,
              "#bd3786"
             ],
             [
              0.5555555555555556,
              "#d8576b"
             ],
             [
              0.6666666666666666,
              "#ed7953"
             ],
             [
              0.7777777777777778,
              "#fb9f3a"
             ],
             [
              0.8888888888888888,
              "#fdca26"
             ],
             [
              1,
              "#f0f921"
             ]
            ],
            "type": "heatmapgl"
           }
          ],
          "histogram": [
           {
            "marker": {
             "colorbar": {
              "outlinewidth": 0,
              "ticks": ""
             }
            },
            "type": "histogram"
           }
          ],
          "histogram2d": [
           {
            "colorbar": {
             "outlinewidth": 0,
             "ticks": ""
            },
            "colorscale": [
             [
              0,
              "#0d0887"
             ],
             [
              0.1111111111111111,
              "#46039f"
             ],
             [
              0.2222222222222222,
              "#7201a8"
             ],
             [
              0.3333333333333333,
              "#9c179e"
             ],
             [
              0.4444444444444444,
              "#bd3786"
             ],
             [
              0.5555555555555556,
              "#d8576b"
             ],
             [
              0.6666666666666666,
              "#ed7953"
             ],
             [
              0.7777777777777778,
              "#fb9f3a"
             ],
             [
              0.8888888888888888,
              "#fdca26"
             ],
             [
              1,
              "#f0f921"
             ]
            ],
            "type": "histogram2d"
           }
          ],
          "histogram2dcontour": [
           {
            "colorbar": {
             "outlinewidth": 0,
             "ticks": ""
            },
            "colorscale": [
             [
              0,
              "#0d0887"
             ],
             [
              0.1111111111111111,
              "#46039f"
             ],
             [
              0.2222222222222222,
              "#7201a8"
             ],
             [
              0.3333333333333333,
              "#9c179e"
             ],
             [
              0.4444444444444444,
              "#bd3786"
             ],
             [
              0.5555555555555556,
              "#d8576b"
             ],
             [
              0.6666666666666666,
              "#ed7953"
             ],
             [
              0.7777777777777778,
              "#fb9f3a"
             ],
             [
              0.8888888888888888,
              "#fdca26"
             ],
             [
              1,
              "#f0f921"
             ]
            ],
            "type": "histogram2dcontour"
           }
          ],
          "mesh3d": [
           {
            "colorbar": {
             "outlinewidth": 0,
             "ticks": ""
            },
            "type": "mesh3d"
           }
          ],
          "parcoords": [
           {
            "line": {
             "colorbar": {
              "outlinewidth": 0,
              "ticks": ""
             }
            },
            "type": "parcoords"
           }
          ],
          "pie": [
           {
            "automargin": true,
            "type": "pie"
           }
          ],
          "scatter": [
           {
            "marker": {
             "colorbar": {
              "outlinewidth": 0,
              "ticks": ""
             }
            },
            "type": "scatter"
           }
          ],
          "scatter3d": [
           {
            "line": {
             "colorbar": {
              "outlinewidth": 0,
              "ticks": ""
             }
            },
            "marker": {
             "colorbar": {
              "outlinewidth": 0,
              "ticks": ""
             }
            },
            "type": "scatter3d"
           }
          ],
          "scattercarpet": [
           {
            "marker": {
             "colorbar": {
              "outlinewidth": 0,
              "ticks": ""
             }
            },
            "type": "scattercarpet"
           }
          ],
          "scattergeo": [
           {
            "marker": {
             "colorbar": {
              "outlinewidth": 0,
              "ticks": ""
             }
            },
            "type": "scattergeo"
           }
          ],
          "scattergl": [
           {
            "marker": {
             "colorbar": {
              "outlinewidth": 0,
              "ticks": ""
             }
            },
            "type": "scattergl"
           }
          ],
          "scattermapbox": [
           {
            "marker": {
             "colorbar": {
              "outlinewidth": 0,
              "ticks": ""
             }
            },
            "type": "scattermapbox"
           }
          ],
          "scatterpolar": [
           {
            "marker": {
             "colorbar": {
              "outlinewidth": 0,
              "ticks": ""
             }
            },
            "type": "scatterpolar"
           }
          ],
          "scatterpolargl": [
           {
            "marker": {
             "colorbar": {
              "outlinewidth": 0,
              "ticks": ""
             }
            },
            "type": "scatterpolargl"
           }
          ],
          "scatterternary": [
           {
            "marker": {
             "colorbar": {
              "outlinewidth": 0,
              "ticks": ""
             }
            },
            "type": "scatterternary"
           }
          ],
          "surface": [
           {
            "colorbar": {
             "outlinewidth": 0,
             "ticks": ""
            },
            "colorscale": [
             [
              0,
              "#0d0887"
             ],
             [
              0.1111111111111111,
              "#46039f"
             ],
             [
              0.2222222222222222,
              "#7201a8"
             ],
             [
              0.3333333333333333,
              "#9c179e"
             ],
             [
              0.4444444444444444,
              "#bd3786"
             ],
             [
              0.5555555555555556,
              "#d8576b"
             ],
             [
              0.6666666666666666,
              "#ed7953"
             ],
             [
              0.7777777777777778,
              "#fb9f3a"
             ],
             [
              0.8888888888888888,
              "#fdca26"
             ],
             [
              1,
              "#f0f921"
             ]
            ],
            "type": "surface"
           }
          ],
          "table": [
           {
            "cells": {
             "fill": {
              "color": "#EBF0F8"
             },
             "line": {
              "color": "white"
             }
            },
            "header": {
             "fill": {
              "color": "#C8D4E3"
             },
             "line": {
              "color": "white"
             }
            },
            "type": "table"
           }
          ]
         },
         "layout": {
          "annotationdefaults": {
           "arrowcolor": "#2a3f5f",
           "arrowhead": 0,
           "arrowwidth": 1
          },
          "autotypenumbers": "strict",
          "coloraxis": {
           "colorbar": {
            "outlinewidth": 0,
            "ticks": ""
           }
          },
          "colorscale": {
           "diverging": [
            [
             0,
             "#8e0152"
            ],
            [
             0.1,
             "#c51b7d"
            ],
            [
             0.2,
             "#de77ae"
            ],
            [
             0.3,
             "#f1b6da"
            ],
            [
             0.4,
             "#fde0ef"
            ],
            [
             0.5,
             "#f7f7f7"
            ],
            [
             0.6,
             "#e6f5d0"
            ],
            [
             0.7,
             "#b8e186"
            ],
            [
             0.8,
             "#7fbc41"
            ],
            [
             0.9,
             "#4d9221"
            ],
            [
             1,
             "#276419"
            ]
           ],
           "sequential": [
            [
             0,
             "#0d0887"
            ],
            [
             0.1111111111111111,
             "#46039f"
            ],
            [
             0.2222222222222222,
             "#7201a8"
            ],
            [
             0.3333333333333333,
             "#9c179e"
            ],
            [
             0.4444444444444444,
             "#bd3786"
            ],
            [
             0.5555555555555556,
             "#d8576b"
            ],
            [
             0.6666666666666666,
             "#ed7953"
            ],
            [
             0.7777777777777778,
             "#fb9f3a"
            ],
            [
             0.8888888888888888,
             "#fdca26"
            ],
            [
             1,
             "#f0f921"
            ]
           ],
           "sequentialminus": [
            [
             0,
             "#0d0887"
            ],
            [
             0.1111111111111111,
             "#46039f"
            ],
            [
             0.2222222222222222,
             "#7201a8"
            ],
            [
             0.3333333333333333,
             "#9c179e"
            ],
            [
             0.4444444444444444,
             "#bd3786"
            ],
            [
             0.5555555555555556,
             "#d8576b"
            ],
            [
             0.6666666666666666,
             "#ed7953"
            ],
            [
             0.7777777777777778,
             "#fb9f3a"
            ],
            [
             0.8888888888888888,
             "#fdca26"
            ],
            [
             1,
             "#f0f921"
            ]
           ]
          },
          "colorway": [
           "#636efa",
           "#EF553B",
           "#00cc96",
           "#ab63fa",
           "#FFA15A",
           "#19d3f3",
           "#FF6692",
           "#B6E880",
           "#FF97FF",
           "#FECB52"
          ],
          "font": {
           "color": "#2a3f5f"
          },
          "geo": {
           "bgcolor": "white",
           "lakecolor": "white",
           "landcolor": "#E5ECF6",
           "showlakes": true,
           "showland": true,
           "subunitcolor": "white"
          },
          "hoverlabel": {
           "align": "left"
          },
          "hovermode": "closest",
          "mapbox": {
           "style": "light"
          },
          "paper_bgcolor": "white",
          "plot_bgcolor": "#E5ECF6",
          "polar": {
           "angularaxis": {
            "gridcolor": "white",
            "linecolor": "white",
            "ticks": ""
           },
           "bgcolor": "#E5ECF6",
           "radialaxis": {
            "gridcolor": "white",
            "linecolor": "white",
            "ticks": ""
           }
          },
          "scene": {
           "xaxis": {
            "backgroundcolor": "#E5ECF6",
            "gridcolor": "white",
            "gridwidth": 2,
            "linecolor": "white",
            "showbackground": true,
            "ticks": "",
            "zerolinecolor": "white"
           },
           "yaxis": {
            "backgroundcolor": "#E5ECF6",
            "gridcolor": "white",
            "gridwidth": 2,
            "linecolor": "white",
            "showbackground": true,
            "ticks": "",
            "zerolinecolor": "white"
           },
           "zaxis": {
            "backgroundcolor": "#E5ECF6",
            "gridcolor": "white",
            "gridwidth": 2,
            "linecolor": "white",
            "showbackground": true,
            "ticks": "",
            "zerolinecolor": "white"
           }
          },
          "shapedefaults": {
           "line": {
            "color": "#2a3f5f"
           }
          },
          "ternary": {
           "aaxis": {
            "gridcolor": "white",
            "linecolor": "white",
            "ticks": ""
           },
           "baxis": {
            "gridcolor": "white",
            "linecolor": "white",
            "ticks": ""
           },
           "bgcolor": "#E5ECF6",
           "caxis": {
            "gridcolor": "white",
            "linecolor": "white",
            "ticks": ""
           }
          },
          "title": {
           "x": 0.05
          },
          "xaxis": {
           "automargin": true,
           "gridcolor": "white",
           "linecolor": "white",
           "ticks": "",
           "title": {
            "standoff": 15
           },
           "zerolinecolor": "white",
           "zerolinewidth": 2
          },
          "yaxis": {
           "automargin": true,
           "gridcolor": "white",
           "linecolor": "white",
           "ticks": "",
           "title": {
            "standoff": 15
           },
           "zerolinecolor": "white",
           "zerolinewidth": 2
          }
         }
        },
        "title": {
         "text": "Reclustering results - indicated by the Debolt pick on the fault"
        },
        "xaxis": {
         "title": {
          "text": "World Rank"
         }
        }
       }
      },
      "text/html": [
       "<div>                            <div id=\"2defc8ae-a2eb-4de6-a128-c66f19249b5a\" class=\"plotly-graph-div\" style=\"height:525px; width:100%;\"></div>            <script type=\"text/javascript\">                require([\"plotly\"], function(Plotly) {                    window.PLOTLYENV=window.PLOTLYENV || {};                                    if (document.getElementById(\"2defc8ae-a2eb-4de6-a128-c66f19249b5a\")) {                    Plotly.newPlot(                        \"2defc8ae-a2eb-4de6-a128-c66f19249b5a\",                        [{\"legendgroup\": \"0\", \"marker\": {\"color\": \"#2bac34\", \"size\": 2}, \"mode\": \"markers\", \"name\": \"Fault group-1\", \"type\": \"scatter3d\", \"x\": [-281418, -307064, -320572, -330002, -338125, -341735, -348168, -359387, -383640, -474276, -484913, -484976, -488513, -500963, -488601, -400758, -429389, -501584, -501584, -503215, -503216, -503235, -504344, -506304, -510840, -515300, -519565, -519448, -519412, -519634, -518617, -518311, -518888, -518468, -518097], \"y\": [-6201553.33, -6198833.41, -6198241.75, -6197856.22, -6194325.37, -6194172.95, -6193939.02, -6193561.45, -6193784.4, -6184866.18, -6184802.58, -6184802.37, -6184791.38, -6184775.96, -6184791.19, -6189657.51, -6185365.6, -6183810.27, -6180187.93, -6154478.16, -6153720.18, -6149149.92, -6149151.01, -6149152.14, -6149167.11, -6149172.08, -6133169.82, -6131390.92, -6128407.88, -6119871.0, -6112463.26, -6108219.28, -6106047.27, -6103622.92, -6102980.19], \"z\": [0.0741417590827189, 0.0443536016333861, 0.0269661255583442, -0.0741254808808829, 0.0138348714575101, 0.0032648346526578, -0.0851906179028772, -0.0406555070581776, 0.0035069197990826, 0.0334280752200935, 0.0051107044262779, 0.0042123097018125, 0.004871593320866, -0.0151089756416698, 0.0303941773605982, -0.0155531069919932, -0.0500096782607939, -0.0042306614835168, 0.0290464033705451, 0.0135368286881536, 0.008584161121995, 0.0172905892529824, 0.0293846318619628, 0.0243906096398496, 0.02372082010897, 0.0319194539796026, 0.0133486712663387, -0.0042347968008604, -0.004857802998307, -0.0077387331201654, -0.0174097047223374, -0.0199024383416524, -0.0235626548955019, -0.0251578450089276, -0.0198625006390103]}, {\"legendgroup\": \"1\", \"marker\": {\"color\": \"#08989a\", \"size\": 2}, \"mode\": \"markers\", \"name\": \"Fault group0\", \"type\": \"scatter3d\", \"x\": [-294715, -300359, -301482, -309564], \"y\": [-6199393.04, -6199126.33, -6199080.0, -6198817.77], \"z\": [0.0360711572173031, 0.0262008253250443, 0.0275851847236832, 0.0508015251011888]}, {\"legendgroup\": \"2\", \"marker\": {\"color\": \"#787e5d\", \"size\": 2}, \"mode\": \"markers\", \"name\": \"Fault group1\", \"type\": \"scatter3d\", \"x\": [-297749, -304192, -311761, -314392, -315445, -317676], \"y\": [-6199250.16, -6198958.67, -6199360.59, -6200070.2, -6199832.08, -6198841.69], \"z\": [0.0377933960732024, 0.0424696631674486, 0.0426220722361881, 0.03999859015026, 0.0327481841061108, 0.0318112621232931]}, {\"legendgroup\": \"3\", \"marker\": {\"color\": \"#795777\", \"size\": 2}, \"mode\": \"markers\", \"name\": \"Fault group2\", \"type\": \"scatter3d\", \"x\": [-334478, -339662, -340548, -346519], \"y\": [-6194460.87, -6194247.39, -6194215.76, -6194000.25], \"z\": [0.0105697800235678, 0.0046013741489159, 0.0020926110689376, 0.0061441623334541]}, {\"legendgroup\": \"4\", \"marker\": {\"color\": \"#72fcee\", \"size\": 2}, \"mode\": \"markers\", \"name\": \"Fault group3\", \"type\": \"scatter3d\", \"x\": [-349655, -351004, -354177, -357251, -361352, -362465, -365175, -366637, -366724, -369440, -371264, -375559, -377795, -380635, -380745, -381431, -387761, -389861, -394447, -396920, -402593, -407385, -410384, -416679, -416716, -424777], \"y\": [-6193886.65, -6193839.36, -6193731.23, -6193630.96, -6193449.77, -6193130.58, -6192174.03, -6192222.24, -6192218.87, -6193103.67, -6193190.34, -6193066.07, -6193059.24, -6193396.54, -6193418.21, -6193508.49, -6189506.64, -6189457.05, -6189377.19, -6189315.74, -6189655.74, -6189047.77, -6188988.14, -6185595.14, -6185594.38, -6185450.02], \"z\": [-0.0525388452332054, -0.0526656012034772, -0.0376809953442585, -0.0449059899674458, -0.0323452650649507, -0.0108551794195002, -0.0200010697132349, -0.038355691512612, -0.0334209268062624, -0.0272099257168306, -0.0038170695595374, -0.013830598804754, -0.0105738054423112, -0.0121011372406612, -0.0113100617094239, -0.0092329838800389, -0.0100730078667617, -0.0099653318015253, 0.000975995121633, 0.0113391693616756, 0.004955920940785, 0.0016448994057698, 0.001441497126295, -0.0173153657539613, -0.0181300769817514, -0.0260818194432577]}, {\"legendgroup\": \"5\", \"marker\": {\"color\": \"#e14d76\", \"size\": 2}, \"mode\": \"markers\", \"name\": \"Fault group7\", \"type\": \"scatter3d\", \"x\": [-382641, -398690, -419178], \"y\": [-6193733.62, -6189423.5, -6185547.2], \"z\": [-0.0082935893790741, -0.0137572463370821, -0.0199726442703838]}, {\"legendgroup\": \"6\", \"marker\": {\"color\": \"#43ac8e\", \"size\": 2}, \"mode\": \"markers\", \"name\": \"Fault group6\", \"type\": \"scatter3d\", \"x\": [-472376, -458751, -458926], \"y\": [-6184872.41, -6188216.39, -6188214.83], \"z\": [0.0304117013506962, 0.0186600299336295, 0.0244117044112249]}, {\"legendgroup\": \"7\", \"marker\": {\"color\": \"#709f5b\", \"size\": 2}, \"mode\": \"markers\", \"name\": \"Fault group8\", \"type\": \"scatter3d\", \"x\": [-479913, -446237, -448237, -451799, -452599], \"y\": [-6184824.51, -6185110.37, -6185086.5, -6185046.9, -6185038.55], \"z\": [0.0294413846958481, 0.0341986923102515, 0.0367492552552273, 0.0322107447918549, 0.0230075710830242]}, {\"legendgroup\": \"8\", \"marker\": {\"color\": \"#25dc1c\", \"size\": 2}, \"mode\": \"markers\", \"name\": \"Fault group4\", \"type\": \"scatter3d\", \"x\": [-481288, -482676, -501585, -501586], \"y\": [-6184817.5, -6184811.17, -6184865.28, -6184527.69], \"z\": [0.0055182258854242, 0.0038520762872926, -0.0032270250610311, -0.0146723954916332]}, {\"legendgroup\": \"9\", \"marker\": {\"color\": \"#3436d3\", \"size\": 2}, \"mode\": \"markers\", \"name\": \"Fault group5\", \"type\": \"scatter3d\", \"x\": [-457638, -459776, -462176, -465038], \"y\": [-6188227.28, -6188207.6, -6188187.41, -6188165.53], \"z\": [0.0206446327753165, 0.0352474241258047, 0.0360241145268829, 0.0418463358520169]}, {\"legendgroup\": \"10\", \"marker\": {\"color\": \"#26a883\", \"size\": 2}, \"mode\": \"markers\", \"name\": \"Fault group9\", \"type\": \"scatter3d\", \"x\": [-501584, -501582, -501582, -502239, -502754, -502924, -503214], \"y\": [-6176502.12, -6172241.18, -6166764.07, -6162329.17, -6161163.81, -6160388.04, -6156181.42], \"z\": [0.0504035411350177, 0.0344987170761584, 0.0294380134102485, 0.019645233185734, 0.0139248473890252, 0.0141888524675726, 0.0024076099970165]}, {\"legendgroup\": \"11\", \"marker\": {\"color\": \"#85c858\", \"size\": 2}, \"mode\": \"markers\", \"name\": \"Fault group10\", \"type\": \"scatter3d\", \"x\": [-503218, -505118, -507467, -509229, -520698, -520744], \"y\": [-6149350.84, -6149151.05, -6149153.9, -6149160.21, -6147497.77, -6147399.02], \"z\": [0.0235742480961851, 0.0347397776696716, 0.0300121880637481, 0.0251288682717474, 0.0429196828601757, 0.044454555199344]}, {\"legendgroup\": \"12\", \"marker\": {\"color\": \"#fbf775\", \"size\": 2}, \"mode\": \"markers\", \"name\": \"Fault group11\", \"type\": \"scatter3d\", \"x\": [-514806, -517711, -519100, -521698, -521348, -521164, -520929], \"y\": [-6149167.77, -6149187.07, -6148987.06, -6145094.4, -6141622.92, -6140494.8, -6138684.25], \"z\": [0.0345920204121959, 0.0428615896210374, 0.0391417776033851, 0.0385797864612507, 0.045134344147052, 0.0407161506986944, 0.0356951903378016]}, {\"legendgroup\": \"13\", \"marker\": {\"color\": \"#c865d0\", \"size\": 2}, \"mode\": \"markers\", \"name\": \"Fault group12\", \"type\": \"scatter3d\", \"x\": [-519507, -519608, -519420], \"y\": [-6124661.65, -6121481.24, -6115564.09], \"z\": [0.0003706893432833, -0.0008250770908921, -0.0030435152162329]}],                        {\"scene\": {\"aspectmode\": \"manual\", \"aspectratio\": {\"x\": 2, \"y\": 2, \"z\": 1}}, \"template\": {\"data\": {\"bar\": [{\"error_x\": {\"color\": \"#2a3f5f\"}, \"error_y\": {\"color\": \"#2a3f5f\"}, \"marker\": {\"line\": {\"color\": \"#E5ECF6\", \"width\": 0.5}}, \"type\": \"bar\"}], \"barpolar\": [{\"marker\": {\"line\": {\"color\": \"#E5ECF6\", \"width\": 0.5}}, \"type\": \"barpolar\"}], \"carpet\": [{\"aaxis\": {\"endlinecolor\": \"#2a3f5f\", \"gridcolor\": \"white\", \"linecolor\": \"white\", \"minorgridcolor\": \"white\", \"startlinecolor\": \"#2a3f5f\"}, \"baxis\": {\"endlinecolor\": \"#2a3f5f\", \"gridcolor\": \"white\", \"linecolor\": \"white\", \"minorgridcolor\": \"white\", \"startlinecolor\": \"#2a3f5f\"}, \"type\": \"carpet\"}], \"choropleth\": [{\"colorbar\": {\"outlinewidth\": 0, \"ticks\": \"\"}, \"type\": \"choropleth\"}], \"contour\": [{\"colorbar\": {\"outlinewidth\": 0, \"ticks\": \"\"}, \"colorscale\": [[0.0, \"#0d0887\"], [0.1111111111111111, \"#46039f\"], [0.2222222222222222, \"#7201a8\"], [0.3333333333333333, \"#9c179e\"], [0.4444444444444444, \"#bd3786\"], [0.5555555555555556, \"#d8576b\"], [0.6666666666666666, \"#ed7953\"], [0.7777777777777778, \"#fb9f3a\"], [0.8888888888888888, \"#fdca26\"], [1.0, \"#f0f921\"]], \"type\": \"contour\"}], \"contourcarpet\": [{\"colorbar\": {\"outlinewidth\": 0, \"ticks\": \"\"}, \"type\": \"contourcarpet\"}], \"heatmap\": [{\"colorbar\": {\"outlinewidth\": 0, \"ticks\": \"\"}, \"colorscale\": [[0.0, \"#0d0887\"], [0.1111111111111111, \"#46039f\"], [0.2222222222222222, \"#7201a8\"], [0.3333333333333333, \"#9c179e\"], [0.4444444444444444, \"#bd3786\"], [0.5555555555555556, \"#d8576b\"], [0.6666666666666666, \"#ed7953\"], [0.7777777777777778, \"#fb9f3a\"], [0.8888888888888888, \"#fdca26\"], [1.0, \"#f0f921\"]], \"type\": \"heatmap\"}], \"heatmapgl\": [{\"colorbar\": {\"outlinewidth\": 0, \"ticks\": \"\"}, \"colorscale\": [[0.0, \"#0d0887\"], [0.1111111111111111, \"#46039f\"], [0.2222222222222222, \"#7201a8\"], [0.3333333333333333, \"#9c179e\"], [0.4444444444444444, \"#bd3786\"], [0.5555555555555556, \"#d8576b\"], [0.6666666666666666, \"#ed7953\"], [0.7777777777777778, \"#fb9f3a\"], [0.8888888888888888, \"#fdca26\"], [1.0, \"#f0f921\"]], \"type\": \"heatmapgl\"}], \"histogram\": [{\"marker\": {\"colorbar\": {\"outlinewidth\": 0, \"ticks\": \"\"}}, \"type\": \"histogram\"}], \"histogram2d\": [{\"colorbar\": {\"outlinewidth\": 0, \"ticks\": \"\"}, \"colorscale\": [[0.0, \"#0d0887\"], [0.1111111111111111, \"#46039f\"], [0.2222222222222222, \"#7201a8\"], [0.3333333333333333, \"#9c179e\"], [0.4444444444444444, \"#bd3786\"], [0.5555555555555556, \"#d8576b\"], [0.6666666666666666, \"#ed7953\"], [0.7777777777777778, \"#fb9f3a\"], [0.8888888888888888, \"#fdca26\"], [1.0, \"#f0f921\"]], \"type\": \"histogram2d\"}], \"histogram2dcontour\": [{\"colorbar\": {\"outlinewidth\": 0, \"ticks\": \"\"}, \"colorscale\": [[0.0, \"#0d0887\"], [0.1111111111111111, \"#46039f\"], [0.2222222222222222, \"#7201a8\"], [0.3333333333333333, \"#9c179e\"], [0.4444444444444444, \"#bd3786\"], [0.5555555555555556, \"#d8576b\"], [0.6666666666666666, \"#ed7953\"], [0.7777777777777778, \"#fb9f3a\"], [0.8888888888888888, \"#fdca26\"], [1.0, \"#f0f921\"]], \"type\": \"histogram2dcontour\"}], \"mesh3d\": [{\"colorbar\": {\"outlinewidth\": 0, \"ticks\": \"\"}, \"type\": \"mesh3d\"}], \"parcoords\": [{\"line\": {\"colorbar\": {\"outlinewidth\": 0, \"ticks\": \"\"}}, \"type\": \"parcoords\"}], \"pie\": [{\"automargin\": true, \"type\": \"pie\"}], \"scatter\": [{\"marker\": {\"colorbar\": {\"outlinewidth\": 0, \"ticks\": \"\"}}, \"type\": \"scatter\"}], \"scatter3d\": [{\"line\": {\"colorbar\": {\"outlinewidth\": 0, \"ticks\": \"\"}}, \"marker\": {\"colorbar\": {\"outlinewidth\": 0, \"ticks\": \"\"}}, \"type\": \"scatter3d\"}], \"scattercarpet\": [{\"marker\": {\"colorbar\": {\"outlinewidth\": 0, \"ticks\": \"\"}}, \"type\": \"scattercarpet\"}], \"scattergeo\": [{\"marker\": {\"colorbar\": {\"outlinewidth\": 0, \"ticks\": \"\"}}, \"type\": \"scattergeo\"}], \"scattergl\": [{\"marker\": {\"colorbar\": {\"outlinewidth\": 0, \"ticks\": \"\"}}, \"type\": \"scattergl\"}], \"scattermapbox\": [{\"marker\": {\"colorbar\": {\"outlinewidth\": 0, \"ticks\": \"\"}}, \"type\": \"scattermapbox\"}], \"scatterpolar\": [{\"marker\": {\"colorbar\": {\"outlinewidth\": 0, \"ticks\": \"\"}}, \"type\": \"scatterpolar\"}], \"scatterpolargl\": [{\"marker\": {\"colorbar\": {\"outlinewidth\": 0, \"ticks\": \"\"}}, \"type\": \"scatterpolargl\"}], \"scatterternary\": [{\"marker\": {\"colorbar\": {\"outlinewidth\": 0, \"ticks\": \"\"}}, \"type\": \"scatterternary\"}], \"surface\": [{\"colorbar\": {\"outlinewidth\": 0, \"ticks\": \"\"}, \"colorscale\": [[0.0, \"#0d0887\"], [0.1111111111111111, \"#46039f\"], [0.2222222222222222, \"#7201a8\"], [0.3333333333333333, \"#9c179e\"], [0.4444444444444444, \"#bd3786\"], [0.5555555555555556, \"#d8576b\"], [0.6666666666666666, \"#ed7953\"], [0.7777777777777778, \"#fb9f3a\"], [0.8888888888888888, \"#fdca26\"], [1.0, \"#f0f921\"]], \"type\": \"surface\"}], \"table\": [{\"cells\": {\"fill\": {\"color\": \"#EBF0F8\"}, \"line\": {\"color\": \"white\"}}, \"header\": {\"fill\": {\"color\": \"#C8D4E3\"}, \"line\": {\"color\": \"white\"}}, \"type\": \"table\"}]}, \"layout\": {\"annotationdefaults\": {\"arrowcolor\": \"#2a3f5f\", \"arrowhead\": 0, \"arrowwidth\": 1}, \"autotypenumbers\": \"strict\", \"coloraxis\": {\"colorbar\": {\"outlinewidth\": 0, \"ticks\": \"\"}}, \"colorscale\": {\"diverging\": [[0, \"#8e0152\"], [0.1, \"#c51b7d\"], [0.2, \"#de77ae\"], [0.3, \"#f1b6da\"], [0.4, \"#fde0ef\"], [0.5, \"#f7f7f7\"], [0.6, \"#e6f5d0\"], [0.7, \"#b8e186\"], [0.8, \"#7fbc41\"], [0.9, \"#4d9221\"], [1, \"#276419\"]], \"sequential\": [[0.0, \"#0d0887\"], [0.1111111111111111, \"#46039f\"], [0.2222222222222222, \"#7201a8\"], [0.3333333333333333, \"#9c179e\"], [0.4444444444444444, \"#bd3786\"], [0.5555555555555556, \"#d8576b\"], [0.6666666666666666, \"#ed7953\"], [0.7777777777777778, \"#fb9f3a\"], [0.8888888888888888, \"#fdca26\"], [1.0, \"#f0f921\"]], \"sequentialminus\": [[0.0, \"#0d0887\"], [0.1111111111111111, \"#46039f\"], [0.2222222222222222, \"#7201a8\"], [0.3333333333333333, \"#9c179e\"], [0.4444444444444444, \"#bd3786\"], [0.5555555555555556, \"#d8576b\"], [0.6666666666666666, \"#ed7953\"], [0.7777777777777778, \"#fb9f3a\"], [0.8888888888888888, \"#fdca26\"], [1.0, \"#f0f921\"]]}, \"colorway\": [\"#636efa\", \"#EF553B\", \"#00cc96\", \"#ab63fa\", \"#FFA15A\", \"#19d3f3\", \"#FF6692\", \"#B6E880\", \"#FF97FF\", \"#FECB52\"], \"font\": {\"color\": \"#2a3f5f\"}, \"geo\": {\"bgcolor\": \"white\", \"lakecolor\": \"white\", \"landcolor\": \"#E5ECF6\", \"showlakes\": true, \"showland\": true, \"subunitcolor\": \"white\"}, \"hoverlabel\": {\"align\": \"left\"}, \"hovermode\": \"closest\", \"mapbox\": {\"style\": \"light\"}, \"paper_bgcolor\": \"white\", \"plot_bgcolor\": \"#E5ECF6\", \"polar\": {\"angularaxis\": {\"gridcolor\": \"white\", \"linecolor\": \"white\", \"ticks\": \"\"}, \"bgcolor\": \"#E5ECF6\", \"radialaxis\": {\"gridcolor\": \"white\", \"linecolor\": \"white\", \"ticks\": \"\"}}, \"scene\": {\"xaxis\": {\"backgroundcolor\": \"#E5ECF6\", \"gridcolor\": \"white\", \"gridwidth\": 2, \"linecolor\": \"white\", \"showbackground\": true, \"ticks\": \"\", \"zerolinecolor\": \"white\"}, \"yaxis\": {\"backgroundcolor\": \"#E5ECF6\", \"gridcolor\": \"white\", \"gridwidth\": 2, \"linecolor\": \"white\", \"showbackground\": true, \"ticks\": \"\", \"zerolinecolor\": \"white\"}, \"zaxis\": {\"backgroundcolor\": \"#E5ECF6\", \"gridcolor\": \"white\", \"gridwidth\": 2, \"linecolor\": \"white\", \"showbackground\": true, \"ticks\": \"\", \"zerolinecolor\": \"white\"}}, \"shapedefaults\": {\"line\": {\"color\": \"#2a3f5f\"}}, \"ternary\": {\"aaxis\": {\"gridcolor\": \"white\", \"linecolor\": \"white\", \"ticks\": \"\"}, \"baxis\": {\"gridcolor\": \"white\", \"linecolor\": \"white\", \"ticks\": \"\"}, \"bgcolor\": \"#E5ECF6\", \"caxis\": {\"gridcolor\": \"white\", \"linecolor\": \"white\", \"ticks\": \"\"}}, \"title\": {\"x\": 0.05}, \"xaxis\": {\"automargin\": true, \"gridcolor\": \"white\", \"linecolor\": \"white\", \"ticks\": \"\", \"title\": {\"standoff\": 15}, \"zerolinecolor\": \"white\", \"zerolinewidth\": 2}, \"yaxis\": {\"automargin\": true, \"gridcolor\": \"white\", \"linecolor\": \"white\", \"ticks\": \"\", \"title\": {\"standoff\": 15}, \"zerolinecolor\": \"white\", \"zerolinewidth\": 2}}}, \"title\": {\"text\": \"Reclustering results - indicated by the Debolt pick on the fault\"}, \"xaxis\": {\"title\": {\"text\": \"World Rank\"}}},                        {\"responsive\": true}                    ).then(function(){\n",
       "                            \n",
       "var gd = document.getElementById('2defc8ae-a2eb-4de6-a128-c66f19249b5a');\n",
       "var x = new MutationObserver(function (mutations, observer) {{\n",
       "        var display = window.getComputedStyle(gd).display;\n",
       "        if (!display || display === 'none') {{\n",
       "            console.log([gd, 'removed!']);\n",
       "            Plotly.purge(gd);\n",
       "            observer.disconnect();\n",
       "        }}\n",
       "}});\n",
       "\n",
       "// Listen for the removal of the full notebook cells\n",
       "var notebookContainer = gd.closest('#notebook-container');\n",
       "if (notebookContainer) {{\n",
       "    x.observe(notebookContainer, {childList: true});\n",
       "}}\n",
       "\n",
       "// Listen for the clearing of the current output cell\n",
       "var outputEl = gd.closest('.output');\n",
       "if (outputEl) {{\n",
       "    x.observe(outputEl, {childList: true});\n",
       "}}\n",
       "\n",
       "                        })                };                });            </script>        </div>"
      ]
     },
     "metadata": {},
     "output_type": "display_data"
    }
   ],
   "source": [
    "fig = go.Figure(\n",
    "layout = go.Layout(title=\"Reclustering results - indicated by the Debolt pick on the fault\",\n",
    "                   xaxis= dict(title= 'World Rank')))\n",
    "\n",
    "np.random.RandomState(seed=1234)\n",
    "get_colors = lambda n: list(map(lambda i: \"#\" + \"%06x\" % random.randint(0, 0xFFFFFF),range(n)))\n",
    "cluster_labels = dfML_dbscan.label.unique().tolist()\n",
    "label_colors_list = get_colors(len(cluster_labels))\n",
    "\n",
    "for label in dfML_dbscan.label.unique():\n",
    "    df_group = dfML_dbscan[dfML_dbscan['label'] == label]\n",
    "    group_label = df_group.label.unique()\n",
    "    \n",
    "    #assign color index to show faults on the same line with one color\n",
    "    label_idx = cluster_labels.index(group_label)\n",
    "\n",
    "    x=df_group.debPickX.values\n",
    "    y=df_group.debPickY.values\n",
    "    z=df_group.debPickTrace.values\n",
    "     \n",
    "    fig.add_trace(go.Scatter3d(\n",
    "        x=-x,\n",
    "        y=-y,\n",
    "        z=-z,\n",
    "        mode='markers',\n",
    "        marker=dict(color=label_colors_list[label_idx], size=2),\n",
    "        legendgroup=label_idx,name='Fault group' + str(cluster_labels[label_idx])))\n",
    "    \n",
    "fig.update_scenes(aspectmode='manual',\n",
    "                  aspectratio=dict(x=2, y=2, z=1))\n",
    "   \n",
    "# fig.write_html(\"/home/paulina/Desktop/for_DAVE/faults_dbscan.html\")\n",
    "\n",
    "fig.show()"
   ]
  },
  {
   "cell_type": "code",
   "execution_count": 24,
   "metadata": {},
   "outputs": [],
   "source": [
    "# alternative with OHE (in progress)\n",
    "# X = dfML.copy()\n",
    "# from sklearn.compose import make_column_transformer\n",
    "# from sklearn.pipeline import make_pipeline\n",
    "\n",
    "# column_trans = make_column_transformer((\n",
    "#     OneHotEncoder(), [['noPicks']]),\n",
    "#     (StandardScaler(), [['debPickTrace','debPickX','debPickY', 'dip']]),\n",
    "#     remainder='passthrough')\n",
    "\n",
    "# columnTransformer = ColumnTransformer([('encoder', \n",
    "#                                         OneHotEncoder(), \n",
    "#                                         [['noPicks']])], \n",
    "#                                       remainder='passthrough') \n",
    "\n",
    "# data = np.array(columnTransformer.fit_transform(dfML), dtype = np.str) \n",
    "\n",
    "# data = np.array(column_trans.fit_transform(X)) \n",
    "\n",
    "# enc = OneHotEncoder(handle_unknown='ignore')\n",
    "# enc_noPicks = enc.fit(dfML[['noPicks']])\n",
    "# # le.transform(dfML.noPicks)\n",
    "# # creating one hot encoder object with categorical feature 0 \n",
    "# # indicating the first column \n",
    "# columnTransformer = ColumnTransformer([('encoder', \n",
    "#                                         OneHotEncoder(), \n",
    "#                                         '[0]')], \n",
    "#                                       remainder='passthrough') \n",
    "  \n",
    "# data = np.array(columnTransformer.fit_transform(data), dtype = np.str) \n",
    "# kmean = KMeans(n_clusters=15, n_init=8, random_state=1234)\n",
    "# pipe = make_pipeline(column_trans, kmean)\n",
    "# pipe.fit_predict()\n",
    "# predicted_ohe = pipe.fit_predict(X)"
   ]
  },
  {
   "cell_type": "code",
   "execution_count": null,
   "metadata": {},
   "outputs": [],
   "source": []
  }
 ],
 "metadata": {
  "kernelspec": {
   "display_name": "Python 3",
   "language": "python",
   "name": "python3"
  },
  "language_info": {
   "codemirror_mode": {
    "name": "ipython",
    "version": 3
   },
   "file_extension": ".py",
   "mimetype": "text/x-python",
   "name": "python",
   "nbconvert_exporter": "python",
   "pygments_lexer": "ipython3",
   "version": "3.7.6"
  }
 },
 "nbformat": 4,
 "nbformat_minor": 4
}
